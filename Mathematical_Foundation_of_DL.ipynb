{
  "nbformat": 4,
  "nbformat_minor": 0,
  "metadata": {
    "colab": {
      "name": "Mathematical Foundation of DL.ipynb",
      "version": "0.3.2",
      "provenance": [],
      "collapsed_sections": [],
      "include_colab_link": true
    },
    "kernelspec": {
      "name": "python3",
      "display_name": "Python 3"
    }
  },
  "cells": [
    {
      "cell_type": "markdown",
      "metadata": {
        "id": "view-in-github",
        "colab_type": "text"
      },
      "source": [
        "<a href=\"https://colab.research.google.com/github/mayankp158/Image_Recoginition_using_Tensorflow/blob/master/Mathematical_Foundation_of_DL.ipynb\" target=\"_parent\"><img src=\"https://colab.research.google.com/assets/colab-badge.svg\" alt=\"Open In Colab\"/></a>"
      ]
    },
    {
      "cell_type": "code",
      "metadata": {
        "id": "PjS834w2h3Wn",
        "colab_type": "code",
        "colab": {
          "base_uri": "https://localhost:8080/",
          "height": 34
        },
        "outputId": "9744c484-39db-4c5c-e1cc-6ff703fe8e47"
      },
      "source": [
        "import numpy as np\n",
        "x = np.array([1,2,3,4])\n",
        "x.shape"
      ],
      "execution_count": 2,
      "outputs": [
        {
          "output_type": "execute_result",
          "data": {
            "text/plain": [
              "(4,)"
            ]
          },
          "metadata": {
            "tags": []
          },
          "execution_count": 2
        }
      ]
    },
    {
      "cell_type": "markdown",
      "metadata": {
        "id": "qSUCRUCvjM0i",
        "colab_type": "text"
      },
      "source": [
        "1D Tensor"
      ]
    },
    {
      "cell_type": "code",
      "metadata": {
        "id": "KmPAUejEiKvx",
        "colab_type": "code",
        "colab": {
          "base_uri": "https://localhost:8080/",
          "height": 68
        },
        "outputId": "c633bc5f-fb13-421d-bd7f-699ae2a16dfa"
      },
      "source": [
        "x = np.array([[1,2,3],\n",
        "              [4,5,6],\n",
        "              [7,8,9]])\n",
        "x.shape\n",
        "x.ndim\n",
        "x.dtype\n",
        "print(x.shape)\n",
        "print(x.ndim)\n",
        "print(x.dtype)"
      ],
      "execution_count": 6,
      "outputs": [
        {
          "output_type": "stream",
          "text": [
            "(3, 3)\n",
            "2\n",
            "int64\n"
          ],
          "name": "stdout"
        }
      ]
    },
    {
      "cell_type": "markdown",
      "metadata": {
        "id": "OE8bqQg_jXhU",
        "colab_type": "text"
      },
      "source": [
        "2D Tensor"
      ]
    },
    {
      "cell_type": "code",
      "metadata": {
        "id": "-ADLG14ojT73",
        "colab_type": "code",
        "colab": {
          "base_uri": "https://localhost:8080/",
          "height": 68
        },
        "outputId": "ffd9d420-ecde-4983-e252-a67545ce2037"
      },
      "source": [
        "x = np.array([[[1,2,3],\n",
        "              [4,5,6],\n",
        "              [7,8,9]],\n",
        "              [[1,2,3],\n",
        "              [4,5,6],\n",
        "              [7,8,9]],\n",
        "              [[1,2,3],\n",
        "              [4,5,6],\n",
        "              [7,8,9]]])\n",
        "x.shape\n",
        "x.ndim\n",
        "x.dtype\n",
        "print(x.shape)\n",
        "print(x.ndim)\n",
        "print(x.dtype)\n"
      ],
      "execution_count": 7,
      "outputs": [
        {
          "output_type": "stream",
          "text": [
            "(3, 3, 3)\n",
            "3\n",
            "int64\n"
          ],
          "name": "stdout"
        }
      ]
    },
    {
      "cell_type": "markdown",
      "metadata": {
        "id": "tidzRdvvkJnw",
        "colab_type": "text"
      },
      "source": [
        "3D Tensor"
      ]
    },
    {
      "cell_type": "code",
      "metadata": {
        "id": "iI9hETr4kIug",
        "colab_type": "code",
        "colab": {
          "base_uri": "https://localhost:8080/",
          "height": 564
        },
        "outputId": "f159dec9-07f4-4be2-c897-231c08f76207"
      },
      "source": [
        "from __future__ import absolute_import, division, print_function, unicode_literals\n",
        "\n",
        "!pip install tensorflow==2.0-beta1\n",
        "import tensorflow as tf"
      ],
      "execution_count": 9,
      "outputs": [
        {
          "output_type": "stream",
          "text": [
            "Collecting tensorflow==2.0-beta1\n",
            "\u001b[?25l  Downloading https://files.pythonhosted.org/packages/29/6c/2c9a5c4d095c63c2fb37d20def0e4f92685f7aee9243d6aae25862694fd1/tensorflow-2.0.0b1-cp36-cp36m-manylinux1_x86_64.whl (87.9MB)\n",
            "\u001b[K     |████████████████████████████████| 87.9MB 28.8MB/s \n",
            "\u001b[?25hRequirement already satisfied: grpcio>=1.8.6 in /usr/local/lib/python3.6/dist-packages (from tensorflow==2.0-beta1) (1.15.0)\n",
            "Requirement already satisfied: six>=1.10.0 in /usr/local/lib/python3.6/dist-packages (from tensorflow==2.0-beta1) (1.12.0)\n",
            "Requirement already satisfied: keras-applications>=1.0.6 in /usr/local/lib/python3.6/dist-packages (from tensorflow==2.0-beta1) (1.0.8)\n",
            "Requirement already satisfied: keras-preprocessing>=1.0.5 in /usr/local/lib/python3.6/dist-packages (from tensorflow==2.0-beta1) (1.1.0)\n",
            "Requirement already satisfied: numpy<2.0,>=1.14.5 in /usr/local/lib/python3.6/dist-packages (from tensorflow==2.0-beta1) (1.16.5)\n",
            "Collecting tf-estimator-nightly<1.14.0.dev2019060502,>=1.14.0.dev2019060501 (from tensorflow==2.0-beta1)\n",
            "\u001b[?25l  Downloading https://files.pythonhosted.org/packages/32/dd/99c47dd007dcf10d63fd895611b063732646f23059c618a373e85019eb0e/tf_estimator_nightly-1.14.0.dev2019060501-py2.py3-none-any.whl (496kB)\n",
            "\u001b[K     |████████████████████████████████| 501kB 42.5MB/s \n",
            "\u001b[?25hRequirement already satisfied: termcolor>=1.1.0 in /usr/local/lib/python3.6/dist-packages (from tensorflow==2.0-beta1) (1.1.0)\n",
            "Requirement already satisfied: google-pasta>=0.1.6 in /usr/local/lib/python3.6/dist-packages (from tensorflow==2.0-beta1) (0.1.7)\n",
            "Requirement already satisfied: wheel>=0.26 in /usr/local/lib/python3.6/dist-packages (from tensorflow==2.0-beta1) (0.33.6)\n",
            "Requirement already satisfied: protobuf>=3.6.1 in /usr/local/lib/python3.6/dist-packages (from tensorflow==2.0-beta1) (3.7.1)\n",
            "Requirement already satisfied: gast>=0.2.0 in /usr/local/lib/python3.6/dist-packages (from tensorflow==2.0-beta1) (0.2.2)\n",
            "Collecting tb-nightly<1.14.0a20190604,>=1.14.0a20190603 (from tensorflow==2.0-beta1)\n",
            "\u001b[?25l  Downloading https://files.pythonhosted.org/packages/a4/96/571b875cd81dda9d5dfa1422a4f9d749e67c0a8d4f4f0b33a4e5f5f35e27/tb_nightly-1.14.0a20190603-py3-none-any.whl (3.1MB)\n",
            "\u001b[K     |████████████████████████████████| 3.1MB 33.6MB/s \n",
            "\u001b[?25hRequirement already satisfied: wrapt>=1.11.1 in /usr/local/lib/python3.6/dist-packages (from tensorflow==2.0-beta1) (1.11.2)\n",
            "Requirement already satisfied: absl-py>=0.7.0 in /usr/local/lib/python3.6/dist-packages (from tensorflow==2.0-beta1) (0.8.0)\n",
            "Requirement already satisfied: astor>=0.6.0 in /usr/local/lib/python3.6/dist-packages (from tensorflow==2.0-beta1) (0.8.0)\n",
            "Requirement already satisfied: h5py in /usr/local/lib/python3.6/dist-packages (from keras-applications>=1.0.6->tensorflow==2.0-beta1) (2.8.0)\n",
            "Requirement already satisfied: setuptools in /usr/local/lib/python3.6/dist-packages (from protobuf>=3.6.1->tensorflow==2.0-beta1) (41.2.0)\n",
            "Requirement already satisfied: werkzeug>=0.11.15 in /usr/local/lib/python3.6/dist-packages (from tb-nightly<1.14.0a20190604,>=1.14.0a20190603->tensorflow==2.0-beta1) (0.15.6)\n",
            "Requirement already satisfied: markdown>=2.6.8 in /usr/local/lib/python3.6/dist-packages (from tb-nightly<1.14.0a20190604,>=1.14.0a20190603->tensorflow==2.0-beta1) (3.1.1)\n",
            "Installing collected packages: tf-estimator-nightly, tb-nightly, tensorflow\n",
            "  Found existing installation: tensorflow 1.14.0\n",
            "    Uninstalling tensorflow-1.14.0:\n",
            "      Successfully uninstalled tensorflow-1.14.0\n",
            "Successfully installed tb-nightly-1.14.0a20190603 tensorflow-2.0.0b1 tf-estimator-nightly-1.14.0.dev2019060501\n"
          ],
          "name": "stdout"
        }
      ]
    },
    {
      "cell_type": "code",
      "metadata": {
        "id": "eud2NSw7lMQp",
        "colab_type": "code",
        "colab": {
          "base_uri": "https://localhost:8080/",
          "height": 51
        },
        "outputId": "17756d6c-5663-4c52-ea76-7014049dab6d"
      },
      "source": [
        "mnist = tf.keras.datasets.mnist\n",
        "(x_train, y_train), (x_test, y_test) = mnist.load_data()\n"
      ],
      "execution_count": 11,
      "outputs": [
        {
          "output_type": "stream",
          "text": [
            "Downloading data from https://storage.googleapis.com/tensorflow/tf-keras-datasets/mnist.npz\n",
            "11493376/11490434 [==============================] - 0s 0us/step\n"
          ],
          "name": "stdout"
        }
      ]
    },
    {
      "cell_type": "code",
      "metadata": {
        "id": "tuOMBlWbl_Cu",
        "colab_type": "code",
        "colab": {
          "base_uri": "https://localhost:8080/",
          "height": 102
        },
        "outputId": "aebdb82a-00f2-4e53-c8c3-c7ddf110be64"
      },
      "source": [
        "print(\"attributes of training data tensor\")\n",
        "print(\"===================================\")\n",
        "print(\"number of axis in tensor =%d\"%x_train.ndim)\n",
        "print(\"shape of tensor\", x_train.shape)\n",
        "print(\"data type of tensor elements %s\"%x_train.dtype)"
      ],
      "execution_count": 13,
      "outputs": [
        {
          "output_type": "stream",
          "text": [
            "attributes of training data tensor\n",
            "===================================\n",
            "number of axis in tensor =3\n",
            "shape of tensor (60000, 28, 28)\n",
            "data type of tensor elements uint8\n"
          ],
          "name": "stdout"
        }
      ]
    },
    {
      "cell_type": "code",
      "metadata": {
        "id": "sVstVoLvnH1v",
        "colab_type": "code",
        "colab": {
          "base_uri": "https://localhost:8080/",
          "height": 102
        },
        "outputId": "3ab444dd-c5f5-4080-b590-84110f13423b"
      },
      "source": [
        "print(\"attributes of training label tensor\")\n",
        "print(\"===================================\")\n",
        "print(\"number of axis in tensor =%d\"%y_train.ndim)\n",
        "print(\"shape of tensor\", y_train.shape)\n",
        "print(\"data type of tensor elements %s\"%y_train.dtype)"
      ],
      "execution_count": 14,
      "outputs": [
        {
          "output_type": "stream",
          "text": [
            "attributes of training label tensor\n",
            "===================================\n",
            "number of axis in tensor =1\n",
            "shape of tensor (60000,)\n",
            "data type of tensor elements uint8\n"
          ],
          "name": "stdout"
        }
      ]
    },
    {
      "cell_type": "markdown",
      "metadata": {
        "id": "Zfg6j32tnaWe",
        "colab_type": "text"
      },
      "source": [
        "**Data Selection(Tensor Slicing)**"
      ]
    },
    {
      "cell_type": "code",
      "metadata": {
        "id": "hitBX7Z0nXrZ",
        "colab_type": "code",
        "colab": {
          "base_uri": "https://localhost:8080/",
          "height": 1000
        },
        "outputId": "3623e30d-38c2-4423-8cbc-faa341a70ee5"
      },
      "source": [
        "x_1 = x_train[0]\n",
        "x_1"
      ],
      "execution_count": 16,
      "outputs": [
        {
          "output_type": "execute_result",
          "data": {
            "text/plain": [
              "array([[  0,   0,   0,   0,   0,   0,   0,   0,   0,   0,   0,   0,   0,\n",
              "          0,   0,   0,   0,   0,   0,   0,   0,   0,   0,   0,   0,   0,\n",
              "          0,   0],\n",
              "       [  0,   0,   0,   0,   0,   0,   0,   0,   0,   0,   0,   0,   0,\n",
              "          0,   0,   0,   0,   0,   0,   0,   0,   0,   0,   0,   0,   0,\n",
              "          0,   0],\n",
              "       [  0,   0,   0,   0,   0,   0,   0,   0,   0,   0,   0,   0,   0,\n",
              "          0,   0,   0,   0,   0,   0,   0,   0,   0,   0,   0,   0,   0,\n",
              "          0,   0],\n",
              "       [  0,   0,   0,   0,   0,   0,   0,   0,   0,   0,   0,   0,   0,\n",
              "          0,   0,   0,   0,   0,   0,   0,   0,   0,   0,   0,   0,   0,\n",
              "          0,   0],\n",
              "       [  0,   0,   0,   0,   0,   0,   0,   0,   0,   0,   0,   0,   0,\n",
              "          0,   0,   0,   0,   0,   0,   0,   0,   0,   0,   0,   0,   0,\n",
              "          0,   0],\n",
              "       [  0,   0,   0,   0,   0,   0,   0,   0,   0,   0,   0,   0,   3,\n",
              "         18,  18,  18, 126, 136, 175,  26, 166, 255, 247, 127,   0,   0,\n",
              "          0,   0],\n",
              "       [  0,   0,   0,   0,   0,   0,   0,   0,  30,  36,  94, 154, 170,\n",
              "        253, 253, 253, 253, 253, 225, 172, 253, 242, 195,  64,   0,   0,\n",
              "          0,   0],\n",
              "       [  0,   0,   0,   0,   0,   0,   0,  49, 238, 253, 253, 253, 253,\n",
              "        253, 253, 253, 253, 251,  93,  82,  82,  56,  39,   0,   0,   0,\n",
              "          0,   0],\n",
              "       [  0,   0,   0,   0,   0,   0,   0,  18, 219, 253, 253, 253, 253,\n",
              "        253, 198, 182, 247, 241,   0,   0,   0,   0,   0,   0,   0,   0,\n",
              "          0,   0],\n",
              "       [  0,   0,   0,   0,   0,   0,   0,   0,  80, 156, 107, 253, 253,\n",
              "        205,  11,   0,  43, 154,   0,   0,   0,   0,   0,   0,   0,   0,\n",
              "          0,   0],\n",
              "       [  0,   0,   0,   0,   0,   0,   0,   0,   0,  14,   1, 154, 253,\n",
              "         90,   0,   0,   0,   0,   0,   0,   0,   0,   0,   0,   0,   0,\n",
              "          0,   0],\n",
              "       [  0,   0,   0,   0,   0,   0,   0,   0,   0,   0,   0, 139, 253,\n",
              "        190,   2,   0,   0,   0,   0,   0,   0,   0,   0,   0,   0,   0,\n",
              "          0,   0],\n",
              "       [  0,   0,   0,   0,   0,   0,   0,   0,   0,   0,   0,  11, 190,\n",
              "        253,  70,   0,   0,   0,   0,   0,   0,   0,   0,   0,   0,   0,\n",
              "          0,   0],\n",
              "       [  0,   0,   0,   0,   0,   0,   0,   0,   0,   0,   0,   0,  35,\n",
              "        241, 225, 160, 108,   1,   0,   0,   0,   0,   0,   0,   0,   0,\n",
              "          0,   0],\n",
              "       [  0,   0,   0,   0,   0,   0,   0,   0,   0,   0,   0,   0,   0,\n",
              "         81, 240, 253, 253, 119,  25,   0,   0,   0,   0,   0,   0,   0,\n",
              "          0,   0],\n",
              "       [  0,   0,   0,   0,   0,   0,   0,   0,   0,   0,   0,   0,   0,\n",
              "          0,  45, 186, 253, 253, 150,  27,   0,   0,   0,   0,   0,   0,\n",
              "          0,   0],\n",
              "       [  0,   0,   0,   0,   0,   0,   0,   0,   0,   0,   0,   0,   0,\n",
              "          0,   0,  16,  93, 252, 253, 187,   0,   0,   0,   0,   0,   0,\n",
              "          0,   0],\n",
              "       [  0,   0,   0,   0,   0,   0,   0,   0,   0,   0,   0,   0,   0,\n",
              "          0,   0,   0,   0, 249, 253, 249,  64,   0,   0,   0,   0,   0,\n",
              "          0,   0],\n",
              "       [  0,   0,   0,   0,   0,   0,   0,   0,   0,   0,   0,   0,   0,\n",
              "          0,  46, 130, 183, 253, 253, 207,   2,   0,   0,   0,   0,   0,\n",
              "          0,   0],\n",
              "       [  0,   0,   0,   0,   0,   0,   0,   0,   0,   0,   0,   0,  39,\n",
              "        148, 229, 253, 253, 253, 250, 182,   0,   0,   0,   0,   0,   0,\n",
              "          0,   0],\n",
              "       [  0,   0,   0,   0,   0,   0,   0,   0,   0,   0,  24, 114, 221,\n",
              "        253, 253, 253, 253, 201,  78,   0,   0,   0,   0,   0,   0,   0,\n",
              "          0,   0],\n",
              "       [  0,   0,   0,   0,   0,   0,   0,   0,  23,  66, 213, 253, 253,\n",
              "        253, 253, 198,  81,   2,   0,   0,   0,   0,   0,   0,   0,   0,\n",
              "          0,   0],\n",
              "       [  0,   0,   0,   0,   0,   0,  18, 171, 219, 253, 253, 253, 253,\n",
              "        195,  80,   9,   0,   0,   0,   0,   0,   0,   0,   0,   0,   0,\n",
              "          0,   0],\n",
              "       [  0,   0,   0,   0,  55, 172, 226, 253, 253, 253, 253, 244, 133,\n",
              "         11,   0,   0,   0,   0,   0,   0,   0,   0,   0,   0,   0,   0,\n",
              "          0,   0],\n",
              "       [  0,   0,   0,   0, 136, 253, 253, 253, 212, 135, 132,  16,   0,\n",
              "          0,   0,   0,   0,   0,   0,   0,   0,   0,   0,   0,   0,   0,\n",
              "          0,   0],\n",
              "       [  0,   0,   0,   0,   0,   0,   0,   0,   0,   0,   0,   0,   0,\n",
              "          0,   0,   0,   0,   0,   0,   0,   0,   0,   0,   0,   0,   0,\n",
              "          0,   0],\n",
              "       [  0,   0,   0,   0,   0,   0,   0,   0,   0,   0,   0,   0,   0,\n",
              "          0,   0,   0,   0,   0,   0,   0,   0,   0,   0,   0,   0,   0,\n",
              "          0,   0],\n",
              "       [  0,   0,   0,   0,   0,   0,   0,   0,   0,   0,   0,   0,   0,\n",
              "          0,   0,   0,   0,   0,   0,   0,   0,   0,   0,   0,   0,   0,\n",
              "          0,   0]], dtype=uint8)"
            ]
          },
          "metadata": {
            "tags": []
          },
          "execution_count": 16
        }
      ]
    },
    {
      "cell_type": "code",
      "metadata": {
        "id": "ULztUwPOnwQ7",
        "colab_type": "code",
        "colab": {
          "base_uri": "https://localhost:8080/",
          "height": 269
        },
        "outputId": "cf0621e7-6d4b-470b-ccec-6aa47c85ebb7"
      },
      "source": [
        "import matplotlib.pyplot as plt\n",
        "\n",
        "def display_image(img):\n",
        "  plt.imshow(img, cmap=plt.cm.binary)\n",
        "  plt.show()\n",
        "  \n",
        "display_image(x_1)  \n"
      ],
      "execution_count": 19,
      "outputs": [
        {
          "output_type": "display_data",
          "data": {
            "image/png": "[encoded data removed]",
            "text/plain": [
              "<Figure size 432x288 with 1 Axes>"
            ]
          },
          "metadata": {
            "tags": []
          }
        }
      ]
    },
    {
      "cell_type": "code",
      "metadata": {
        "id": "wk6FdzttoxcQ",
        "colab_type": "code",
        "colab": {
          "base_uri": "https://localhost:8080/",
          "height": 1000
        },
        "outputId": "5a660f9c-a344-4dc4-9c40-be19c6114994"
      },
      "source": [
        "i = 10\n",
        "x_i = x_train[i]\n",
        "print(x_i)\n",
        "display_image(x_i)"
      ],
      "execution_count": 20,
      "outputs": [
        {
          "output_type": "stream",
          "text": [
            "[[  0   0   0   0   0   0   0   0   0   0   0   0   0   0   0   0   0   0\n",
            "    0   0   0   0   0   0   0   0   0   0]\n",
            " [  0   0   0   0   0   0   0   0   0   0   0   0   0   0   0   0   0   0\n",
            "    0   0   0   0   0   0   0   0   0   0]\n",
            " [  0   0   0   0   0   0   0   0   0   0   0   0   0   0   0   0   0   0\n",
            "    0   0   0   0   0   0   0   0   0   0]\n",
            " [  0   0   0   0   0   0   0   0   0   0   0   0   0   0   0   0   0   0\n",
            "    0   0   0   0   0   0   0   0   0   0]\n",
            " [  0   0   0   0   0   0   0   0   0   0   0  42 118 219 166 118 118   6\n",
            "    0   0   0   0   0   0   0   0   0   0]\n",
            " [  0   0   0   0   0   0   0   0   0   0 103 242 254 254 254 254 254  66\n",
            "    0   0   0   0   0   0   0   0   0   0]\n",
            " [  0   0   0   0   0   0   0   0   0   0  18 232 254 254 254 254 254 238\n",
            "   70   0   0   0   0   0   0   0   0   0]\n",
            " [  0   0   0   0   0   0   0   0   0   0   0 104 244 254 224 254 254 254\n",
            "  141   0   0   0   0   0   0   0   0   0]\n",
            " [  0   0   0   0   0   0   0   0   0   0   0   0 207 254 210 254 254 254\n",
            "   34   0   0   0   0   0   0   0   0   0]\n",
            " [  0   0   0   0   0   0   0   0   0   0   0   0  84 206 254 254 254 254\n",
            "   41   0   0   0   0   0   0   0   0   0]\n",
            " [  0   0   0   0   0   0   0   0   0   0   0   0   0  24 209 254 254 254\n",
            "  171   0   0   0   0   0   0   0   0   0]\n",
            " [  0   0   0   0   0   0   0   0   0   0   0   0  91 137 253 254 254 254\n",
            "  112   0   0   0   0   0   0   0   0   0]\n",
            " [  0   0   0   0   0   0   0   0   0   0  40 214 250 254 254 254 254 254\n",
            "   34   0   0   0   0   0   0   0   0   0]\n",
            " [  0   0   0   0   0   0   0   0   0   0  81 247 254 254 254 254 254 254\n",
            "  146   0   0   0   0   0   0   0   0   0]\n",
            " [  0   0   0   0   0   0   0   0   0   0   0 110 246 254 254 254 254 254\n",
            "  171   0   0   0   0   0   0   0   0   0]\n",
            " [  0   0   0   0   0   0   0   0   0   0   0   0  73  89  89  93 240 254\n",
            "  171   0   0   0   0   0   0   0   0   0]\n",
            " [  0   0   0   0   0   0   0   0   0   0   0   0   0   0   0   1 128 254\n",
            "  219  31   0   0   0   0   0   0   0   0]\n",
            " [  0   0   0   0   0   0   0   0   0   0   0   0   0   0   0   7 254 254\n",
            "  214  28   0   0   0   0   0   0   0   0]\n",
            " [  0   0   0   0   0   0   0   0   0   0   0   0   0   0   0 138 254 254\n",
            "  116   0   0   0   0   0   0   0   0   0]\n",
            " [  0   0   0   0   0   0  19 177  90   0   0   0   0   0  25 240 254 254\n",
            "   34   0   0   0   0   0   0   0   0   0]\n",
            " [  0   0   0   0   0   0 164 254 215  63  36   0  51  89 206 254 254 139\n",
            "    8   0   0   0   0   0   0   0   0   0]\n",
            " [  0   0   0   0   0   0  57 197 254 254 222 180 241 254 254 253 213  11\n",
            "    0   0   0   0   0   0   0   0   0   0]\n",
            " [  0   0   0   0   0   0   0 140 105 254 254 254 254 254 254 236   0   0\n",
            "    0   0   0   0   0   0   0   0   0   0]\n",
            " [  0   0   0   0   0   0   0   0   7 117 117 165 254 254 239  50   0   0\n",
            "    0   0   0   0   0   0   0   0   0   0]\n",
            " [  0   0   0   0   0   0   0   0   0   0   0   0   0   0   0   0   0   0\n",
            "    0   0   0   0   0   0   0   0   0   0]\n",
            " [  0   0   0   0   0   0   0   0   0   0   0   0   0   0   0   0   0   0\n",
            "    0   0   0   0   0   0   0   0   0   0]\n",
            " [  0   0   0   0   0   0   0   0   0   0   0   0   0   0   0   0   0   0\n",
            "    0   0   0   0   0   0   0   0   0   0]\n",
            " [  0   0   0   0   0   0   0   0   0   0   0   0   0   0   0   0   0   0\n",
            "    0   0   0   0   0   0   0   0   0   0]]\n"
          ],
          "name": "stdout"
        },
        {
          "output_type": "display_data",
          "data": {
            "image/png": "[encoded data removed]",
            "text/plain": [
              "<Figure size 432x288 with 1 Axes>"
            ]
          },
          "metadata": {
            "tags": []
          }
        }
      ]
    },
    {
      "cell_type": "markdown",
      "metadata": {
        "id": "DtNIzAE3oyOp",
        "colab_type": "text"
      },
      "source": [
        "11th Element"
      ]
    },
    {
      "cell_type": "markdown",
      "metadata": {
        "id": "RlzEd3YlpR3R",
        "colab_type": "text"
      },
      "source": [
        "**Select multiple data point**"
      ]
    },
    {
      "cell_type": "code",
      "metadata": {
        "id": "vhNr-ChdpRLK",
        "colab_type": "code",
        "colab": {
          "base_uri": "https://localhost:8080/",
          "height": 102
        },
        "outputId": "4d03bd6d-8780-40aa-9af4-f775deff0b0e"
      },
      "source": [
        "x_train_slice = x_train[10:100]\n",
        "print(\"attributes of training label tensor\")\n",
        "print(\"===================================\")\n",
        "print(\"number of axis in tensor =%d\"%x_train_slice.ndim)\n",
        "print(\"shape of tensor\", x_train_slice.shape)\n",
        "print(\"data type of tensor elements %s\"%x_train_slice.dtype)"
      ],
      "execution_count": 21,
      "outputs": [
        {
          "output_type": "stream",
          "text": [
            "attributes of training label tensor\n",
            "===================================\n",
            "number of axis in tensor =3\n",
            "shape of tensor (90, 28, 28)\n",
            "data type of tensor elements uint8\n"
          ],
          "name": "stdout"
        }
      ]
    },
    {
      "cell_type": "code",
      "metadata": {
        "id": "5_FrjNOwrl6t",
        "colab_type": "code",
        "colab": {
          "base_uri": "https://localhost:8080/",
          "height": 102
        },
        "outputId": "9819d4b3-681b-41e9-92e5-553deb8844b2"
      },
      "source": [
        "x_train_slice = x_train[10:100, :, :]\n",
        "print(\"attributes of training label tensor\")\n",
        "print(\"===================================\")\n",
        "print(\"number of axis in tensor =%d\"%x_train_slice.ndim)\n",
        "print(\"shape of tensor\", x_train_slice.shape)\n",
        "print(\"data type of tensor elements %s\"%x_train_slice.dtype)"
      ],
      "execution_count": 22,
      "outputs": [
        {
          "output_type": "stream",
          "text": [
            "attributes of training label tensor\n",
            "===================================\n",
            "number of axis in tensor =3\n",
            "shape of tensor (90, 28, 28)\n",
            "data type of tensor elements uint8\n"
          ],
          "name": "stdout"
        }
      ]
    },
    {
      "cell_type": "code",
      "metadata": {
        "id": "0tg5ZYJbrqss",
        "colab_type": "code",
        "colab": {
          "base_uri": "https://localhost:8080/",
          "height": 102
        },
        "outputId": "6e306cd4-12bc-4441-baf4-ff052c784293"
      },
      "source": [
        "x_train_slice = x_train[10:100, 0:27, 0:27]\n",
        "print(\"attributes of training label tensor\")\n",
        "print(\"===================================\")\n",
        "print(\"number of axis in tensor =%d\"%x_train_slice.ndim)\n",
        "print(\"shape of tensor\", x_train_slice.shape)\n",
        "print(\"data type of tensor elements %s\"%x_train_slice.dtype)"
      ],
      "execution_count": 23,
      "outputs": [
        {
          "output_type": "stream",
          "text": [
            "attributes of training label tensor\n",
            "===================================\n",
            "number of axis in tensor =3\n",
            "shape of tensor (90, 27, 27)\n",
            "data type of tensor elements uint8\n"
          ],
          "name": "stdout"
        }
      ]
    },
    {
      "cell_type": "markdown",
      "metadata": {
        "id": "MEMvH-QTsXXh",
        "colab_type": "text"
      },
      "source": [
        "**Bottom Right Patch of 14x14 in training image**"
      ]
    },
    {
      "cell_type": "code",
      "metadata": {
        "id": "1jij3pj1r9fv",
        "colab_type": "code",
        "colab": {
          "base_uri": "https://localhost:8080/",
          "height": 102
        },
        "outputId": "ecbad60d-e8dd-4c7f-f000-36ec42851550"
      },
      "source": [
        "x_train_br_slice = x_train[:, 14:, :14]\n",
        "print(\"attributes of training label tensor\")\n",
        "print(\"===================================\")\n",
        "print(\"number of axis in tensor =%d\"%x_train_br_slice.ndim)\n",
        "print(\"shape of tensor\", x_train_br_slice.shape)\n",
        "print(\"data type of tensor elements %s\"%x_train_br_slice.dtype)"
      ],
      "execution_count": 24,
      "outputs": [
        {
          "output_type": "stream",
          "text": [
            "attributes of training label tensor\n",
            "===================================\n",
            "number of axis in tensor =3\n",
            "shape of tensor (60000, 14, 14)\n",
            "data type of tensor elements uint8\n"
          ],
          "name": "stdout"
        }
      ]
    },
    {
      "cell_type": "markdown",
      "metadata": {
        "id": "LjI8sXF9sv3s",
        "colab_type": "text"
      },
      "source": [
        "**Crop image to patch 14x14 pixel centred in middle **"
      ]
    },
    {
      "cell_type": "code",
      "metadata": {
        "id": "rDNRVAirs_hD",
        "colab_type": "code",
        "colab": {
          "base_uri": "https://localhost:8080/",
          "height": 102
        },
        "outputId": "748dcc7a-5f85-41ea-f163-661c80905701"
      },
      "source": [
        "x_train_br_slice = x_train[:,7:-7, 7:-7]\n",
        "print(\"attributes of training label tensor\")\n",
        "print(\"===================================\")\n",
        "print(\"number of axis in tensor =%d\"%x_train_br_slice.ndim)\n",
        "print(\"shape of tensor\", x_train_br_slice.shape)\n",
        "print(\"data type of tensor elements %s\"%x_train_br_slice.dtype)"
      ],
      "execution_count": 25,
      "outputs": [
        {
          "output_type": "stream",
          "text": [
            "attributes of training label tensor\n",
            "===================================\n",
            "number of axis in tensor =3\n",
            "shape of tensor (60000, 14, 14)\n",
            "data type of tensor elements uint8\n"
          ],
          "name": "stdout"
        }
      ]
    },
    {
      "cell_type": "markdown",
      "metadata": {
        "id": "PrpTuVUqtfBT",
        "colab_type": "text"
      },
      "source": [
        "**Data Baches**\n",
        "\n",
        "1.   The first axis in all data sensor is sample axis or sample dimension\n",
        "2.   The first axis of batch tensor is called batch axis or batch dimension"
      ]
    },
    {
      "cell_type": "code",
      "metadata": {
        "id": "j8S5cc9MthXs",
        "colab_type": "code",
        "colab": {
          "base_uri": "https://localhost:8080/",
          "height": 187
        },
        "outputId": "f66016c1-6c06-4b26-db3b-edad380ea5cb"
      },
      "source": [
        "batch_1 = x_train[:128]\n",
        "print(\"attributes of training label tensor\")\n",
        "print(\"===================================\")\n",
        "print(\"number of axis in tensor =%d\"%batch_1.ndim)\n",
        "print(\"shape of tensor\", batch_1.shape)\n",
        "print(\"data type of tensor elements %s\"%batch_1.dtype)\n",
        "\n",
        "batch_2 = x_train[128:256]\n",
        "print(\"attributes of training label tensor\")\n",
        "print(\"===================================\")\n",
        "print(\"number of axis in tensor =%d\"%batch_2.ndim)\n",
        "print(\"shape of tensor\", batch_2.shape)\n",
        "print(\"data type of tensor elements %s\"%batch_2.dtype)"
      ],
      "execution_count": 27,
      "outputs": [
        {
          "output_type": "stream",
          "text": [
            "attributes of training label tensor\n",
            "===================================\n",
            "number of axis in tensor =3\n",
            "shape of tensor (128, 28, 28)\n",
            "data type of tensor elements uint8\n",
            "attributes of training label tensor\n",
            "===================================\n",
            "number of axis in tensor =3\n",
            "shape of tensor (128, 28, 28)\n",
            "data type of tensor elements uint8\n"
          ],
          "name": "stdout"
        }
      ]
    },
    {
      "cell_type": "code",
      "metadata": {
        "id": "ZD5fVN9YYFVB",
        "colab_type": "code",
        "colab": {
          "base_uri": "https://localhost:8080/",
          "height": 119
        },
        "outputId": "e4d5ad00-178f-4d60-bd74-d22fcad86dec"
      },
      "source": [
        "import numpy as np\n",
        "w = np.array([[1,0.5],[2,1]])\n",
        "\n",
        "print(\"# of axis - w =%d\"%w.ndim)\n",
        "print(\"shape of w\", w.shape)\n",
        "\n",
        "import numpy as np\n",
        "input = np.array([[1,2],[-1,2]])\n",
        "\n",
        "print(\"# of axis - w =%d\"%input.ndim)\n",
        "print(\"shape of w\", input.shape)\n",
        "\n",
        "\n",
        "import numpy as np\n",
        "b = np.array([-2.0,0.5])\n",
        "\n",
        "print(\"# of axis - w =%d\"%b.ndim)\n",
        "print(\"shape of w\", b.shape)\n",
        "\n"
      ],
      "execution_count": 8,
      "outputs": [
        {
          "output_type": "stream",
          "text": [
            "# of axis - w =2\n",
            "shape of w (2, 2)\n",
            "# of axis - w =2\n",
            "shape of w (2, 2)\n",
            "# of axis - w =1\n",
            "shape of w (2,)\n"
          ],
          "name": "stdout"
        }
      ]
    },
    {
      "cell_type": "markdown",
      "metadata": {
        "id": "7jxVtR7SZnY5",
        "colab_type": "text"
      },
      "source": [
        "Linear combination"
      ]
    },
    {
      "cell_type": "code",
      "metadata": {
        "id": "1PF0qRfhZppQ",
        "colab_type": "code",
        "colab": {
          "base_uri": "https://localhost:8080/",
          "height": 153
        },
        "outputId": "83dd4d52-e6bf-439e-ec81-6247cf9ac384"
      },
      "source": [
        "z= np.dot(w, input) + b\n",
        "print(\"===================================\")\n",
        "print(\"shape of w\", w.shape)\n",
        "print(\"shape of input\", input.shape)\n",
        "print(\"shape of b\", b.shape)\n",
        "\n",
        "print(\"===================================\")\n",
        "print(\"shape of z\", z.shape)\n",
        "print(z)"
      ],
      "execution_count": 9,
      "outputs": [
        {
          "output_type": "stream",
          "text": [
            "===================================\n",
            "shape of w (2, 2)\n",
            "shape of input (2, 2)\n",
            "shape of b (2,)\n",
            "===================================\n",
            "shape of z (2, 2)\n",
            "[[-1.5  3.5]\n",
            " [-1.   6.5]]\n"
          ],
          "name": "stdout"
        }
      ]
    },
    {
      "cell_type": "markdown",
      "metadata": {
        "id": "3KjhnQ5xaeWO",
        "colab_type": "text"
      },
      "source": [
        "Apply Non - Linear activation with relu"
      ]
    },
    {
      "cell_type": "code",
      "metadata": {
        "id": "wmY43u7FajZu",
        "colab_type": "code",
        "colab": {
          "base_uri": "https://localhost:8080/",
          "height": 68
        },
        "outputId": "87988c7c-e2d7-4205-b9bd-12ccb74f5150"
      },
      "source": [
        "output = np.maximum(0.,z) #Element wise relu\n",
        "print(\"shape of output\", output.shape)\n",
        "print(output)"
      ],
      "execution_count": 10,
      "outputs": [
        {
          "output_type": "stream",
          "text": [
            "shape of output (2, 2)\n",
            "[[0.  3.5]\n",
            " [0.  6.5]]\n"
          ],
          "name": "stdout"
        }
      ]
    },
    {
      "cell_type": "markdown",
      "metadata": {
        "id": "RTMvaKAabXY9",
        "colab_type": "text"
      },
      "source": [
        "Visualization"
      ]
    },
    {
      "cell_type": "code",
      "metadata": {
        "id": "mMAVDs8MbWgC",
        "colab_type": "code",
        "colab": {
          "base_uri": "https://localhost:8080/",
          "height": 300
        },
        "outputId": "5baebd66-1169-44cc-cf77-fd10cbd947f8"
      },
      "source": [
        "import matplotlib.pyplot as plt\n",
        "\n",
        "x = np.linspace(-10,10,100)\n",
        "z = np.maximum(0.,x)\n",
        "plt.plot(x,z)\n",
        "plt.xlabel(\"x\")\n",
        "plt.ylabel(\"relu(x)\")\n"
      ],
      "execution_count": 11,
      "outputs": [
        {
          "output_type": "execute_result",
          "data": {
            "text/plain": [
              "Text(0, 0.5, 'relu(x)')"
            ]
          },
          "metadata": {
            "tags": []
          },
          "execution_count": 11
        },
        {
          "output_type": "display_data",
          "data": {
            "image/png": "[encoded data removed]",
            "text/plain": [
              "<Figure size 432x288 with 1 Axes>"
            ]
          },
          "metadata": {
            "tags": []
          }
        }
      ]
    },
    {
      "cell_type": "code",
      "metadata": {
        "id": "uqwvHW4ScWKC",
        "colab_type": "code",
        "colab": {
          "base_uri": "https://localhost:8080/",
          "height": 300
        },
        "outputId": "7f48a523-ca00-4956-c3bf-310b2d0e8c43"
      },
      "source": [
        "#Sigmoid Activation\n",
        "\n",
        "import math\n",
        "x = np.linspace(-10,10,100)\n",
        "z = 1/(1+np.exp(-x))\n",
        "plt.plot(x,z)\n",
        "plt.xlabel(\"x\")\n",
        "plt.ylabel(\"sigmoid(x)\")\n"
      ],
      "execution_count": 12,
      "outputs": [
        {
          "output_type": "execute_result",
          "data": {
            "text/plain": [
              "Text(0, 0.5, 'sigmoid(x)')"
            ]
          },
          "metadata": {
            "tags": []
          },
          "execution_count": 12
        },
        {
          "output_type": "display_data",
          "data": {
            "image/png": "[encoded data removed]",
            "text/plain": [
              "<Figure size 432x288 with 1 Axes>"
            ]
          },
          "metadata": {
            "tags": []
          }
        }
      ]
    },
    {
      "cell_type": "markdown",
      "metadata": {
        "id": "KBBDrQAwc6u2",
        "colab_type": "text"
      },
      "source": [
        "**Broadcasting**"
      ]
    },
    {
      "cell_type": "code",
      "metadata": {
        "id": "GICUyCGvc6QN",
        "colab_type": "code",
        "colab": {
          "base_uri": "https://localhost:8080/",
          "height": 85
        },
        "outputId": "4c57b836-db0e-40c3-9265-749208178718"
      },
      "source": [
        "x_1 = np.random.rand(32,10)\n",
        "x_2 = np.random.rand(10)\n",
        "print(\"shape of x_1\", x_1.shape)\n",
        "print(\"shape of x_2\", x_2.shape)\n",
        "\n",
        "#Broadcasting\n",
        "\n",
        "x_2 = np.expand_dims(x_2,axis=0)\n",
        "print(\"shape of x_2\", x_2.shape)\n",
        "\n",
        "\n",
        "x_2 = np.repeat(x_2,32,axis=0)\n",
        "print(\"shape of x_2\", x_2.shape)"
      ],
      "execution_count": 13,
      "outputs": [
        {
          "output_type": "stream",
          "text": [
            "shape of x_1 (32, 10)\n",
            "shape of x_2 (10,)\n",
            "shape of x_2 (1, 10)\n",
            "shape of x_2 (32, 10)\n"
          ],
          "name": "stdout"
        }
      ]
    },
    {
      "cell_type": "code",
      "metadata": {
        "id": "SOpwqfEjeOjB",
        "colab_type": "code",
        "colab": {
          "base_uri": "https://localhost:8080/",
          "height": 34
        },
        "outputId": "986c8714-9e0e-4291-97b7-6f3b22db222a"
      },
      "source": [
        "#numpy_implements broadcasting\n",
        "\n",
        "x_1 = np.random.rand(32,10)\n",
        "x_2 = np.random.rand(10)\n",
        "print((x_1+x_2).shape)"
      ],
      "execution_count": 14,
      "outputs": [
        {
          "output_type": "stream",
          "text": [
            "(32, 10)\n"
          ],
          "name": "stdout"
        }
      ]
    },
    {
      "cell_type": "markdown",
      "metadata": {
        "id": "8wDwBLrPfBLH",
        "colab_type": "text"
      },
      "source": [
        "**Reshaping**"
      ]
    },
    {
      "cell_type": "code",
      "metadata": {
        "id": "33unsLAwe_HH",
        "colab_type": "code",
        "colab": {
          "base_uri": "https://localhost:8080/",
          "height": 306
        },
        "outputId": "f6869c17-7de9-4f3c-d159-8d9bd921fd42"
      },
      "source": [
        "x = np.array([[0.,1.],\n",
        "            [2.,3.],\n",
        "            [3.,4.]])\n",
        "print(\"x =\", x)\n",
        "print(\"shape of x\", x.shape)\n",
        "print(x)\n",
        "#Reshaping of Tensor\n",
        "\n",
        "x = x.reshape((6,1))\n",
        "print(\"shape of x\", x.shape)\n",
        "print(x)\n",
        "\n",
        "x = x.reshape((2,3))\n",
        "print(\"shape of x\", x.shape)\n",
        "print(x)"
      ],
      "execution_count": 19,
      "outputs": [
        {
          "output_type": "stream",
          "text": [
            "x = [[0. 1.]\n",
            " [2. 3.]\n",
            " [3. 4.]]\n",
            "shape of x (3, 2)\n",
            "[[0. 1.]\n",
            " [2. 3.]\n",
            " [3. 4.]]\n",
            "shape of x (6, 1)\n",
            "[[0.]\n",
            " [1.]\n",
            " [2.]\n",
            " [3.]\n",
            " [3.]\n",
            " [4.]]\n",
            "shape of x (2, 3)\n",
            "[[0. 1. 2.]\n",
            " [3. 3. 4.]]\n"
          ],
          "name": "stdout"
        }
      ]
    },
    {
      "cell_type": "markdown",
      "metadata": {
        "id": "SLkY1W0Wh2jA",
        "colab_type": "text"
      },
      "source": [
        "**Transposition**"
      ]
    },
    {
      "cell_type": "code",
      "metadata": {
        "id": "UKPctC04h1KR",
        "colab_type": "code",
        "colab": {
          "base_uri": "https://localhost:8080/",
          "height": 34
        },
        "outputId": "c49bfa4c-e5b0-4ffe-9a73-3a901ec56795"
      },
      "source": [
        "x = np.zeros((300,20))\n",
        "x = np.transpose(x)\n",
        "print(x.shape)"
      ],
      "execution_count": 21,
      "outputs": [
        {
          "output_type": "stream",
          "text": [
            "(20, 300)\n"
          ],
          "name": "stdout"
        }
      ]
    }
  ]
}